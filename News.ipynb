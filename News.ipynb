{
  "nbformat": 4,
  "nbformat_minor": 0,
  "metadata": {
    "colab": {
      "name": "News.ipynb",
      "provenance": [],
      "collapsed_sections": [],
      "authorship_tag": "ABX9TyOHgqcVJaIY2v/JxKs2xDxy",
      "include_colab_link": true
    },
    "kernelspec": {
      "name": "python3",
      "display_name": "Python 3"
    },
    "language_info": {
      "name": "python"
    }
  },
  "cells": [
    {
      "cell_type": "markdown",
      "metadata": {
        "id": "view-in-github",
        "colab_type": "text"
      },
      "source": [
        "<a href=\"https://colab.research.google.com/github/VanshikaNehra23/News_Group/blob/main/News.ipynb\" target=\"_parent\"><img src=\"https://colab.research.google.com/assets/colab-badge.svg\" alt=\"Open In Colab\"/></a>"
      ]
    },
    {
      "cell_type": "markdown",
      "metadata": {
        "id": "MvSqOdtXxP1k"
      },
      "source": [
        "**IMPORTING** **DATA**"
      ]
    },
    {
      "cell_type": "code",
      "metadata": {
        "id": "4vnftmCr8Rwb"
      },
      "source": [
        "import pandas as pd\n",
        "import os\n",
        "import re\n",
        "import numpy as np\n",
        "from sklearn.datasets import fetch_20newsgroups"
      ],
      "execution_count": 1,
      "outputs": []
    },
    {
      "cell_type": "code",
      "metadata": {
        "id": "m6zWcjoR8T-6",
        "colab": {
          "base_uri": "https://localhost:8080/"
        },
        "outputId": "ab4de6f0-de73-453f-f846-0030ac2ddb41"
      },
      "source": [
        "data = fetch_20newsgroups(subset='train')"
      ],
      "execution_count": 2,
      "outputs": [
        {
          "output_type": "stream",
          "text": [
            "Downloading 20news dataset. This may take a few minutes.\n",
            "Downloading dataset from https://ndownloader.figshare.com/files/5975967 (14 MB)\n"
          ],
          "name": "stderr"
        }
      ]
    },
    {
      "cell_type": "code",
      "metadata": {
        "id": "N5Toewd-8Y_P"
      },
      "source": [
        "data"
      ],
      "execution_count": null,
      "outputs": []
    },
    {
      "cell_type": "code",
      "metadata": {
        "colab": {
          "base_uri": "https://localhost:8080/"
        },
        "id": "5nDueXWH8f7z",
        "outputId": "26a7083e-0a9f-4f60-b914-0f2af17e043a"
      },
      "source": [
        "names= data.target_names\n",
        "names"
      ],
      "execution_count": 5,
      "outputs": [
        {
          "output_type": "execute_result",
          "data": {
            "text/plain": [
              "['alt.atheism',\n",
              " 'comp.graphics',\n",
              " 'comp.os.ms-windows.misc',\n",
              " 'comp.sys.ibm.pc.hardware',\n",
              " 'comp.sys.mac.hardware',\n",
              " 'comp.windows.x',\n",
              " 'misc.forsale',\n",
              " 'rec.autos',\n",
              " 'rec.motorcycles',\n",
              " 'rec.sport.baseball',\n",
              " 'rec.sport.hockey',\n",
              " 'sci.crypt',\n",
              " 'sci.electronics',\n",
              " 'sci.med',\n",
              " 'sci.space',\n",
              " 'soc.religion.christian',\n",
              " 'talk.politics.guns',\n",
              " 'talk.politics.mideast',\n",
              " 'talk.politics.misc',\n",
              " 'talk.religion.misc']"
            ]
          },
          "metadata": {
            "tags": []
          },
          "execution_count": 5
        }
      ]
    },
    {
      "cell_type": "code",
      "metadata": {
        "id": "tYO-hI3d8vux"
      },
      "source": [
        "df = pd.DataFrame.from_dict(data, orient='index')"
      ],
      "execution_count": 6,
      "outputs": []
    },
    {
      "cell_type": "code",
      "metadata": {
        "colab": {
          "base_uri": "https://localhost:8080/",
          "height": 643
        },
        "id": "zzYHhCEX9D9z",
        "outputId": "e609d7ca-d9ee-41bb-fdd3-730227a10b47"
      },
      "source": [
        "df=df.transpose()\n",
        "df"
      ],
      "execution_count": 7,
      "outputs": [
        {
          "output_type": "execute_result",
          "data": {
            "text/html": [
              "<div>\n",
              "<style scoped>\n",
              "    .dataframe tbody tr th:only-of-type {\n",
              "        vertical-align: middle;\n",
              "    }\n",
              "\n",
              "    .dataframe tbody tr th {\n",
              "        vertical-align: top;\n",
              "    }\n",
              "\n",
              "    .dataframe thead th {\n",
              "        text-align: right;\n",
              "    }\n",
              "</style>\n",
              "<table border=\"1\" class=\"dataframe\">\n",
              "  <thead>\n",
              "    <tr style=\"text-align: right;\">\n",
              "      <th></th>\n",
              "      <th>data</th>\n",
              "      <th>filenames</th>\n",
              "      <th>target_names</th>\n",
              "      <th>target</th>\n",
              "      <th>DESCR</th>\n",
              "    </tr>\n",
              "  </thead>\n",
              "  <tbody>\n",
              "    <tr>\n",
              "      <th>0</th>\n",
              "      <td>From: lerxst@wam.umd.edu (where's my thing)\\nS...</td>\n",
              "      <td>/root/scikit_learn_data/20news_home/20news-byd...</td>\n",
              "      <td>alt.atheism</td>\n",
              "      <td>7</td>\n",
              "      <td>.</td>\n",
              "    </tr>\n",
              "    <tr>\n",
              "      <th>1</th>\n",
              "      <td>From: guykuo@carson.u.washington.edu (Guy Kuo)...</td>\n",
              "      <td>/root/scikit_learn_data/20news_home/20news-byd...</td>\n",
              "      <td>comp.graphics</td>\n",
              "      <td>4</td>\n",
              "      <td>.</td>\n",
              "    </tr>\n",
              "    <tr>\n",
              "      <th>2</th>\n",
              "      <td>From: twillis@ec.ecn.purdue.edu (Thomas E Will...</td>\n",
              "      <td>/root/scikit_learn_data/20news_home/20news-byd...</td>\n",
              "      <td>comp.os.ms-windows.misc</td>\n",
              "      <td>4</td>\n",
              "      <td></td>\n",
              "    </tr>\n",
              "    <tr>\n",
              "      <th>3</th>\n",
              "      <td>From: jgreen@amber (Joe Green)\\nSubject: Re: W...</td>\n",
              "      <td>/root/scikit_learn_data/20news_home/20news-byd...</td>\n",
              "      <td>comp.sys.ibm.pc.hardware</td>\n",
              "      <td>1</td>\n",
              "      <td>_</td>\n",
              "    </tr>\n",
              "    <tr>\n",
              "      <th>4</th>\n",
              "      <td>From: jcm@head-cfa.harvard.edu (Jonathan McDow...</td>\n",
              "      <td>/root/scikit_learn_data/20news_home/20news-byd...</td>\n",
              "      <td>comp.sys.mac.hardware</td>\n",
              "      <td>14</td>\n",
              "      <td>2</td>\n",
              "    </tr>\n",
              "    <tr>\n",
              "      <th>...</th>\n",
              "      <td>...</td>\n",
              "      <td>...</td>\n",
              "      <td>...</td>\n",
              "      <td>...</td>\n",
              "      <td>...</td>\n",
              "    </tr>\n",
              "    <tr>\n",
              "      <th>11309</th>\n",
              "      <td>From: jim.zisfein@factory.com (Jim Zisfein) \\n...</td>\n",
              "      <td>/root/scikit_learn_data/20news_home/20news-byd...</td>\n",
              "      <td>None</td>\n",
              "      <td>13</td>\n",
              "      <td>None</td>\n",
              "    </tr>\n",
              "    <tr>\n",
              "      <th>11310</th>\n",
              "      <td>From: ebodin@pearl.tufts.edu\\nSubject: Screen ...</td>\n",
              "      <td>/root/scikit_learn_data/20news_home/20news-byd...</td>\n",
              "      <td>None</td>\n",
              "      <td>4</td>\n",
              "      <td>None</td>\n",
              "    </tr>\n",
              "    <tr>\n",
              "      <th>11311</th>\n",
              "      <td>From: westes@netcom.com (Will Estes)\\nSubject:...</td>\n",
              "      <td>/root/scikit_learn_data/20news_home/20news-byd...</td>\n",
              "      <td>None</td>\n",
              "      <td>3</td>\n",
              "      <td>None</td>\n",
              "    </tr>\n",
              "    <tr>\n",
              "      <th>11312</th>\n",
              "      <td>From: steve@hcrlgw (Steven Collins)\\nSubject: ...</td>\n",
              "      <td>/root/scikit_learn_data/20news_home/20news-byd...</td>\n",
              "      <td>None</td>\n",
              "      <td>1</td>\n",
              "      <td>None</td>\n",
              "    </tr>\n",
              "    <tr>\n",
              "      <th>11313</th>\n",
              "      <td>From: gunning@cco.caltech.edu (Kevin J. Gunnin...</td>\n",
              "      <td>/root/scikit_learn_data/20news_home/20news-byd...</td>\n",
              "      <td>None</td>\n",
              "      <td>8</td>\n",
              "      <td>None</td>\n",
              "    </tr>\n",
              "  </tbody>\n",
              "</table>\n",
              "<p>11314 rows × 5 columns</p>\n",
              "</div>"
            ],
            "text/plain": [
              "                                                    data  ... DESCR\n",
              "0      From: lerxst@wam.umd.edu (where's my thing)\\nS...  ...     .\n",
              "1      From: guykuo@carson.u.washington.edu (Guy Kuo)...  ...     .\n",
              "2      From: twillis@ec.ecn.purdue.edu (Thomas E Will...  ...      \n",
              "3      From: jgreen@amber (Joe Green)\\nSubject: Re: W...  ...     _\n",
              "4      From: jcm@head-cfa.harvard.edu (Jonathan McDow...  ...     2\n",
              "...                                                  ...  ...   ...\n",
              "11309  From: jim.zisfein@factory.com (Jim Zisfein) \\n...  ...  None\n",
              "11310  From: ebodin@pearl.tufts.edu\\nSubject: Screen ...  ...  None\n",
              "11311  From: westes@netcom.com (Will Estes)\\nSubject:...  ...  None\n",
              "11312  From: steve@hcrlgw (Steven Collins)\\nSubject: ...  ...  None\n",
              "11313  From: gunning@cco.caltech.edu (Kevin J. Gunnin...  ...  None\n",
              "\n",
              "[11314 rows x 5 columns]"
            ]
          },
          "metadata": {
            "tags": []
          },
          "execution_count": 7
        }
      ]
    },
    {
      "cell_type": "code",
      "metadata": {
        "colab": {
          "base_uri": "https://localhost:8080/"
        },
        "id": "5HvXxlvB-KnY",
        "outputId": "a83046ee-a06b-40f3-9d38-de1525c3a91c"
      },
      "source": [
        "y=df['target']\n",
        "y"
      ],
      "execution_count": 8,
      "outputs": [
        {
          "output_type": "execute_result",
          "data": {
            "text/plain": [
              "0         7\n",
              "1         4\n",
              "2         4\n",
              "3         1\n",
              "4        14\n",
              "         ..\n",
              "11309    13\n",
              "11310     4\n",
              "11311     3\n",
              "11312     1\n",
              "11313     8\n",
              "Name: target, Length: 11314, dtype: object"
            ]
          },
          "metadata": {
            "tags": []
          },
          "execution_count": 8
        }
      ]
    },
    {
      "cell_type": "code",
      "metadata": {
        "colab": {
          "base_uri": "https://localhost:8080/",
          "height": 415
        },
        "id": "6CUeKvrj-gBf",
        "outputId": "469cde0a-9144-42f2-e7e2-6ccc1bdf4264"
      },
      "source": [
        "x=df.drop(axis=1,columns=['DESCR','target','target_names','filenames'])\n",
        "x"
      ],
      "execution_count": 9,
      "outputs": [
        {
          "output_type": "execute_result",
          "data": {
            "text/html": [
              "<div>\n",
              "<style scoped>\n",
              "    .dataframe tbody tr th:only-of-type {\n",
              "        vertical-align: middle;\n",
              "    }\n",
              "\n",
              "    .dataframe tbody tr th {\n",
              "        vertical-align: top;\n",
              "    }\n",
              "\n",
              "    .dataframe thead th {\n",
              "        text-align: right;\n",
              "    }\n",
              "</style>\n",
              "<table border=\"1\" class=\"dataframe\">\n",
              "  <thead>\n",
              "    <tr style=\"text-align: right;\">\n",
              "      <th></th>\n",
              "      <th>data</th>\n",
              "    </tr>\n",
              "  </thead>\n",
              "  <tbody>\n",
              "    <tr>\n",
              "      <th>0</th>\n",
              "      <td>From: lerxst@wam.umd.edu (where's my thing)\\nS...</td>\n",
              "    </tr>\n",
              "    <tr>\n",
              "      <th>1</th>\n",
              "      <td>From: guykuo@carson.u.washington.edu (Guy Kuo)...</td>\n",
              "    </tr>\n",
              "    <tr>\n",
              "      <th>2</th>\n",
              "      <td>From: twillis@ec.ecn.purdue.edu (Thomas E Will...</td>\n",
              "    </tr>\n",
              "    <tr>\n",
              "      <th>3</th>\n",
              "      <td>From: jgreen@amber (Joe Green)\\nSubject: Re: W...</td>\n",
              "    </tr>\n",
              "    <tr>\n",
              "      <th>4</th>\n",
              "      <td>From: jcm@head-cfa.harvard.edu (Jonathan McDow...</td>\n",
              "    </tr>\n",
              "    <tr>\n",
              "      <th>...</th>\n",
              "      <td>...</td>\n",
              "    </tr>\n",
              "    <tr>\n",
              "      <th>11309</th>\n",
              "      <td>From: jim.zisfein@factory.com (Jim Zisfein) \\n...</td>\n",
              "    </tr>\n",
              "    <tr>\n",
              "      <th>11310</th>\n",
              "      <td>From: ebodin@pearl.tufts.edu\\nSubject: Screen ...</td>\n",
              "    </tr>\n",
              "    <tr>\n",
              "      <th>11311</th>\n",
              "      <td>From: westes@netcom.com (Will Estes)\\nSubject:...</td>\n",
              "    </tr>\n",
              "    <tr>\n",
              "      <th>11312</th>\n",
              "      <td>From: steve@hcrlgw (Steven Collins)\\nSubject: ...</td>\n",
              "    </tr>\n",
              "    <tr>\n",
              "      <th>11313</th>\n",
              "      <td>From: gunning@cco.caltech.edu (Kevin J. Gunnin...</td>\n",
              "    </tr>\n",
              "  </tbody>\n",
              "</table>\n",
              "<p>11314 rows × 1 columns</p>\n",
              "</div>"
            ],
            "text/plain": [
              "                                                    data\n",
              "0      From: lerxst@wam.umd.edu (where's my thing)\\nS...\n",
              "1      From: guykuo@carson.u.washington.edu (Guy Kuo)...\n",
              "2      From: twillis@ec.ecn.purdue.edu (Thomas E Will...\n",
              "3      From: jgreen@amber (Joe Green)\\nSubject: Re: W...\n",
              "4      From: jcm@head-cfa.harvard.edu (Jonathan McDow...\n",
              "...                                                  ...\n",
              "11309  From: jim.zisfein@factory.com (Jim Zisfein) \\n...\n",
              "11310  From: ebodin@pearl.tufts.edu\\nSubject: Screen ...\n",
              "11311  From: westes@netcom.com (Will Estes)\\nSubject:...\n",
              "11312  From: steve@hcrlgw (Steven Collins)\\nSubject: ...\n",
              "11313  From: gunning@cco.caltech.edu (Kevin J. Gunnin...\n",
              "\n",
              "[11314 rows x 1 columns]"
            ]
          },
          "metadata": {
            "tags": []
          },
          "execution_count": 9
        }
      ]
    },
    {
      "cell_type": "markdown",
      "metadata": {
        "id": "IWqHyLBfxaRd"
      },
      "source": [
        "**REMOVING \\t AND \\n**"
      ]
    },
    {
      "cell_type": "code",
      "metadata": {
        "id": "ESYacSEq-2zv"
      },
      "source": [
        "def remove(myString):\n",
        "  myString = re.sub(r\"[\\n\\t]*\", \"\", myString)\n",
        "  return myString"
      ],
      "execution_count": 10,
      "outputs": []
    },
    {
      "cell_type": "code",
      "metadata": {
        "id": "f9ueI1BAAjgu"
      },
      "source": [
        "x['data']=x['data'].apply(lambda x: remove(x))[0]"
      ],
      "execution_count": 11,
      "outputs": []
    },
    {
      "cell_type": "markdown",
      "metadata": {
        "id": "6Nr94Hcoxise"
      },
      "source": [
        "**WEB SCRAPING**"
      ]
    },
    {
      "cell_type": "code",
      "metadata": {
        "colab": {
          "base_uri": "https://localhost:8080/"
        },
        "id": "_jc5jdh8BH3p",
        "outputId": "2485a034-96a8-4344-8c3e-c5ed355f0d99"
      },
      "source": [
        "import requests\n",
        "from bs4 import BeautifulSoup\n",
        "url=\"https://www.sciencenews.org/article/black-hole-picture-magnetic-fields-event-horizon-telescope\"\n",
        "r=requests.get(url)\n",
        "htmlContent=r.content\n",
        "soup = BeautifulSoup(htmlContent, 'html.parser')\n",
        "i=0\n",
        "f = open(\"test1.txt\", \"w\")\n",
        "for data in soup.find_all(\"p\"):\n",
        "    print()\n",
        "    if i<7 and i>4:\n",
        "      sum = data.get_text()\n",
        "      f.writelines(sum+'\\n')\n",
        "    if i>7:\n",
        "      break      \n",
        "    i+=1\n",
        "\n",
        "f.close()"
      ],
      "execution_count": 12,
      "outputs": [
        {
          "output_type": "stream",
          "text": [
            "\n",
            "\n",
            "\n",
            "\n",
            "\n",
            "\n",
            "\n",
            "\n",
            "\n"
          ],
          "name": "stdout"
        }
      ]
    },
    {
      "cell_type": "code",
      "metadata": {
        "id": "iKWaah1dEC5O"
      },
      "source": [
        "testing=pd.DataFrame(columns=['categories','articles'])"
      ],
      "execution_count": 17,
      "outputs": []
    },
    {
      "cell_type": "markdown",
      "metadata": {
        "id": "UloG-1aBxuOQ"
      },
      "source": [
        "**CONVERTING DATA INTO DATAFRAME**"
      ]
    },
    {
      "cell_type": "code",
      "metadata": {
        "colab": {
          "base_uri": "https://localhost:8080/",
          "height": 378
        },
        "id": "8MDXVreQEWHd",
        "outputId": "5a67b718-e1cf-47c5-dc16-bbc18dd91717"
      },
      "source": [
        "opener=open('/content/test1.txt','r')\n",
        "testing['articles']=['','','','','']\n",
        "c=0\n",
        "for i in opener:\n",
        "  testing['articles'][c]=i\n",
        "  c=c+1\n",
        "  print(i)\n",
        "opener=open('/content/test2.txt','r') #One word text\n",
        "for i in opener:\n",
        "  testing['articles'][c]=i\n",
        "  c=c+1\n",
        "  print(i)\n",
        "testing"
      ],
      "execution_count": 18,
      "outputs": [
        {
          "output_type": "stream",
          "text": [
            "Astronomers have gotten their first glimpse of the magnetic fields tangled around a black hole.\n",
            "\n",
            "The Event Horizon Telescope has unveiled the magnetism of the hot, glowing gas around the supermassive black hole at the heart of galaxy M87, researchers report in two studies published online March 24 in the Astrophysical Journal Letters. These magnetic fields are thought to play a crucial role in how the black hole scarfs down matter and launches powerful plasma jets thousands of light-years into space (SN: 3/29/19).\n",
            "\n",
            "Telescope\n",
            "\n",
            "Baseball\n",
            "\n",
            "Doctor\n"
          ],
          "name": "stdout"
        },
        {
          "output_type": "execute_result",
          "data": {
            "text/html": [
              "<div>\n",
              "<style scoped>\n",
              "    .dataframe tbody tr th:only-of-type {\n",
              "        vertical-align: middle;\n",
              "    }\n",
              "\n",
              "    .dataframe tbody tr th {\n",
              "        vertical-align: top;\n",
              "    }\n",
              "\n",
              "    .dataframe thead th {\n",
              "        text-align: right;\n",
              "    }\n",
              "</style>\n",
              "<table border=\"1\" class=\"dataframe\">\n",
              "  <thead>\n",
              "    <tr style=\"text-align: right;\">\n",
              "      <th></th>\n",
              "      <th>categories</th>\n",
              "      <th>articles</th>\n",
              "    </tr>\n",
              "  </thead>\n",
              "  <tbody>\n",
              "    <tr>\n",
              "      <th>0</th>\n",
              "      <td>NaN</td>\n",
              "      <td>Astronomers have gotten their first glimpse of...</td>\n",
              "    </tr>\n",
              "    <tr>\n",
              "      <th>1</th>\n",
              "      <td>NaN</td>\n",
              "      <td>The Event Horizon Telescope has unveiled the m...</td>\n",
              "    </tr>\n",
              "    <tr>\n",
              "      <th>2</th>\n",
              "      <td>NaN</td>\n",
              "      <td>Telescope\\n</td>\n",
              "    </tr>\n",
              "    <tr>\n",
              "      <th>3</th>\n",
              "      <td>NaN</td>\n",
              "      <td>Baseball\\n</td>\n",
              "    </tr>\n",
              "    <tr>\n",
              "      <th>4</th>\n",
              "      <td>NaN</td>\n",
              "      <td>Doctor</td>\n",
              "    </tr>\n",
              "  </tbody>\n",
              "</table>\n",
              "</div>"
            ],
            "text/plain": [
              "  categories                                           articles\n",
              "0        NaN  Astronomers have gotten their first glimpse of...\n",
              "1        NaN  The Event Horizon Telescope has unveiled the m...\n",
              "2        NaN                                        Telescope\\n\n",
              "3        NaN                                         Baseball\\n\n",
              "4        NaN                                             Doctor"
            ]
          },
          "metadata": {
            "tags": []
          },
          "execution_count": 18
        }
      ]
    },
    {
      "cell_type": "code",
      "metadata": {
        "id": "GnlohfoBj0X9"
      },
      "source": [
        "testing['categories']=['sci.space','sci.space','sci.space','rec.sport.baseball','sci.med']"
      ],
      "execution_count": 19,
      "outputs": []
    },
    {
      "cell_type": "code",
      "metadata": {
        "id": "AWabOU0dkD2b"
      },
      "source": [
        "testing['target_num']=[15,15,15,10,14]"
      ],
      "execution_count": 20,
      "outputs": []
    },
    {
      "cell_type": "code",
      "metadata": {
        "colab": {
          "base_uri": "https://localhost:8080/",
          "height": 202
        },
        "id": "Q99bocKJkpPJ",
        "outputId": "84bbc61b-7548-4f34-f9c0-5548db9dec72"
      },
      "source": [
        "testing"
      ],
      "execution_count": 21,
      "outputs": [
        {
          "output_type": "execute_result",
          "data": {
            "text/html": [
              "<div>\n",
              "<style scoped>\n",
              "    .dataframe tbody tr th:only-of-type {\n",
              "        vertical-align: middle;\n",
              "    }\n",
              "\n",
              "    .dataframe tbody tr th {\n",
              "        vertical-align: top;\n",
              "    }\n",
              "\n",
              "    .dataframe thead th {\n",
              "        text-align: right;\n",
              "    }\n",
              "</style>\n",
              "<table border=\"1\" class=\"dataframe\">\n",
              "  <thead>\n",
              "    <tr style=\"text-align: right;\">\n",
              "      <th></th>\n",
              "      <th>categories</th>\n",
              "      <th>articles</th>\n",
              "      <th>target_num</th>\n",
              "    </tr>\n",
              "  </thead>\n",
              "  <tbody>\n",
              "    <tr>\n",
              "      <th>0</th>\n",
              "      <td>sci.space</td>\n",
              "      <td>Astronomers have gotten their first glimpse of...</td>\n",
              "      <td>15</td>\n",
              "    </tr>\n",
              "    <tr>\n",
              "      <th>1</th>\n",
              "      <td>sci.space</td>\n",
              "      <td>The Event Horizon Telescope has unveiled the m...</td>\n",
              "      <td>15</td>\n",
              "    </tr>\n",
              "    <tr>\n",
              "      <th>2</th>\n",
              "      <td>sci.space</td>\n",
              "      <td>Telescope\\n</td>\n",
              "      <td>15</td>\n",
              "    </tr>\n",
              "    <tr>\n",
              "      <th>3</th>\n",
              "      <td>rec.sport.baseball</td>\n",
              "      <td>Baseball\\n</td>\n",
              "      <td>10</td>\n",
              "    </tr>\n",
              "    <tr>\n",
              "      <th>4</th>\n",
              "      <td>sci.med</td>\n",
              "      <td>Doctor</td>\n",
              "      <td>14</td>\n",
              "    </tr>\n",
              "  </tbody>\n",
              "</table>\n",
              "</div>"
            ],
            "text/plain": [
              "           categories  ... target_num\n",
              "0           sci.space  ...         15\n",
              "1           sci.space  ...         15\n",
              "2           sci.space  ...         15\n",
              "3  rec.sport.baseball  ...         10\n",
              "4             sci.med  ...         14\n",
              "\n",
              "[5 rows x 3 columns]"
            ]
          },
          "metadata": {
            "tags": []
          },
          "execution_count": 21
        }
      ]
    },
    {
      "cell_type": "code",
      "metadata": {
        "id": "EH1FJG4jksKx"
      },
      "source": [
        "data_test=testing['target_num']"
      ],
      "execution_count": 22,
      "outputs": []
    },
    {
      "cell_type": "code",
      "metadata": {
        "colab": {
          "base_uri": "https://localhost:8080/"
        },
        "id": "Nfz0EcgK3p4C",
        "outputId": "a1856e83-7eb1-4ee5-d47c-0d4ed171f3db"
      },
      "source": [
        "data_test"
      ],
      "execution_count": 23,
      "outputs": [
        {
          "output_type": "execute_result",
          "data": {
            "text/plain": [
              "0    15\n",
              "1    15\n",
              "2    15\n",
              "3    10\n",
              "4    14\n",
              "Name: target_num, dtype: int64"
            ]
          },
          "metadata": {
            "tags": []
          },
          "execution_count": 23
        }
      ]
    },
    {
      "cell_type": "code",
      "metadata": {
        "id": "yjSaaN4JuCgc"
      },
      "source": [
        "testing['articles']=testing['articles'].apply(lambda x: remove(x)) #Removing \\t and \\n"
      ],
      "execution_count": 24,
      "outputs": []
    },
    {
      "cell_type": "code",
      "metadata": {
        "colab": {
          "base_uri": "https://localhost:8080/",
          "height": 202
        },
        "id": "ZJtZA56UwOSv",
        "outputId": "2e3e1e16-0192-4b14-bc88-a19f624039df"
      },
      "source": [
        "testing"
      ],
      "execution_count": 25,
      "outputs": [
        {
          "output_type": "execute_result",
          "data": {
            "text/html": [
              "<div>\n",
              "<style scoped>\n",
              "    .dataframe tbody tr th:only-of-type {\n",
              "        vertical-align: middle;\n",
              "    }\n",
              "\n",
              "    .dataframe tbody tr th {\n",
              "        vertical-align: top;\n",
              "    }\n",
              "\n",
              "    .dataframe thead th {\n",
              "        text-align: right;\n",
              "    }\n",
              "</style>\n",
              "<table border=\"1\" class=\"dataframe\">\n",
              "  <thead>\n",
              "    <tr style=\"text-align: right;\">\n",
              "      <th></th>\n",
              "      <th>categories</th>\n",
              "      <th>articles</th>\n",
              "      <th>target_num</th>\n",
              "    </tr>\n",
              "  </thead>\n",
              "  <tbody>\n",
              "    <tr>\n",
              "      <th>0</th>\n",
              "      <td>sci.space</td>\n",
              "      <td>Astronomers have gotten their first glimpse of...</td>\n",
              "      <td>15</td>\n",
              "    </tr>\n",
              "    <tr>\n",
              "      <th>1</th>\n",
              "      <td>sci.space</td>\n",
              "      <td>The Event Horizon Telescope has unveiled the m...</td>\n",
              "      <td>15</td>\n",
              "    </tr>\n",
              "    <tr>\n",
              "      <th>2</th>\n",
              "      <td>sci.space</td>\n",
              "      <td>Telescope</td>\n",
              "      <td>15</td>\n",
              "    </tr>\n",
              "    <tr>\n",
              "      <th>3</th>\n",
              "      <td>rec.sport.baseball</td>\n",
              "      <td>Baseball</td>\n",
              "      <td>10</td>\n",
              "    </tr>\n",
              "    <tr>\n",
              "      <th>4</th>\n",
              "      <td>sci.med</td>\n",
              "      <td>Doctor</td>\n",
              "      <td>14</td>\n",
              "    </tr>\n",
              "  </tbody>\n",
              "</table>\n",
              "</div>"
            ],
            "text/plain": [
              "           categories  ... target_num\n",
              "0           sci.space  ...         15\n",
              "1           sci.space  ...         15\n",
              "2           sci.space  ...         15\n",
              "3  rec.sport.baseball  ...         10\n",
              "4             sci.med  ...         14\n",
              "\n",
              "[5 rows x 3 columns]"
            ]
          },
          "metadata": {
            "tags": []
          },
          "execution_count": 25
        }
      ]
    },
    {
      "cell_type": "code",
      "metadata": {
        "id": "Gao0O55h3rSJ"
      },
      "source": [
        "import tensorflow as tf\n",
        "from tensorflow.keras.preprocessing.text import Tokenizer\n",
        "from tensorflow.keras.preprocessing.sequence import pad_sequences\n",
        "from tensorflow.keras.layers import Dense, Input, GlobalMaxPooling1D\n",
        "from tensorflow.keras.layers import LSTM,Embedding\n",
        "from tensorflow.keras.models import Model\n",
        "\n",
        "import numpy as np\n",
        "import matplotlib.pyplot as plt\n",
        "from sklearn.model_selection import train_test_split"
      ],
      "execution_count": 26,
      "outputs": []
    },
    {
      "cell_type": "markdown",
      "metadata": {
        "id": "CR-axxxdyDsv"
      },
      "source": [
        "**TOKENIZATION**"
      ]
    },
    {
      "cell_type": "code",
      "metadata": {
        "id": "H4RBU_S34DLv"
      },
      "source": [
        "MAX_VOCAB_SIZE=20000\n",
        "tokenizer = Tokenizer(num_words=MAX_VOCAB_SIZE)\n",
        "tokenizer.fit_on_texts(x['data'])"
      ],
      "execution_count": 27,
      "outputs": []
    },
    {
      "cell_type": "code",
      "metadata": {
        "id": "2yGoSEAb4oXD"
      },
      "source": [
        "sequence_train=tokenizer.texts_to_sequences(x['data'])\n",
        "sequence_test=tokenizer.texts_to_sequences(testing['articles'])"
      ],
      "execution_count": 28,
      "outputs": []
    },
    {
      "cell_type": "code",
      "metadata": {
        "colab": {
          "base_uri": "https://localhost:8080/"
        },
        "id": "CfB-imZ44yLD",
        "outputId": "5427d3e5-10f2-4923-c7cb-8bd01ff69b62"
      },
      "source": [
        "word2idx=tokenizer.word_index\n",
        "V=len(word2idx)\n",
        "print(\"Found %s unique tokens.\" %V)"
      ],
      "execution_count": 29,
      "outputs": [
        {
          "output_type": "stream",
          "text": [
            "Found 93 unique tokens.\n"
          ],
          "name": "stdout"
        }
      ]
    },
    {
      "cell_type": "code",
      "metadata": {
        "colab": {
          "base_uri": "https://localhost:8080/"
        },
        "id": "JItjkjvG46SN",
        "outputId": "a25e895b-7b62-4a04-9d24-353a1c8ba41f"
      },
      "source": [
        "data_train=pad_sequences(sequence_train)\n",
        "print(\"Shape of data train tensor: \",data_train.shape)\n",
        "T=data_train.shape[1]"
      ],
      "execution_count": 30,
      "outputs": [
        {
          "output_type": "stream",
          "text": [
            "Shape of data train tensor:  (11314, 125)\n"
          ],
          "name": "stdout"
        }
      ]
    },
    {
      "cell_type": "markdown",
      "metadata": {
        "id": "FzX_ptNRyHrs"
      },
      "source": [
        "**MODEL**"
      ]
    },
    {
      "cell_type": "code",
      "metadata": {
        "id": "xz2m-lAr5JCQ"
      },
      "source": [
        "D=20\n",
        "M=15\n",
        "i=Input(shape=(T,))\n",
        "x=Embedding(V+1,D)(i)\n",
        "x=LSTM(M,return_sequences=True)(x)\n",
        "x=GlobalMaxPooling1D()(x)\n",
        "x=Dense(20,activation='softmax')(x)\n",
        "model=Model(i,x)"
      ],
      "execution_count": 31,
      "outputs": []
    },
    {
      "cell_type": "code",
      "metadata": {
        "id": "aR_MaESk5Th5"
      },
      "source": [
        "model.compile(\n",
        "        loss='sparse_categorical_crossentropy',\n",
        "optimizer='adam',\n",
        "metrics=['accuracy'])"
      ],
      "execution_count": 32,
      "outputs": []
    },
    {
      "cell_type": "code",
      "metadata": {
        "id": "6FbhqFe45d_q"
      },
      "source": [
        "y=np.array(y)"
      ],
      "execution_count": 33,
      "outputs": []
    },
    {
      "cell_type": "code",
      "metadata": {
        "id": "ryPmrrQb5220"
      },
      "source": [
        "y=y.astype('float32')"
      ],
      "execution_count": 34,
      "outputs": []
    },
    {
      "cell_type": "code",
      "metadata": {
        "id": "Afr7Jnxz59jC"
      },
      "source": [
        "y_test=testing['target_num']"
      ],
      "execution_count": 35,
      "outputs": []
    },
    {
      "cell_type": "code",
      "metadata": {
        "id": "5QEepNuR6EBF"
      },
      "source": [
        "y_test=np.asarray(y_test).astype('float32')"
      ],
      "execution_count": 36,
      "outputs": []
    },
    {
      "cell_type": "code",
      "metadata": {
        "colab": {
          "base_uri": "https://localhost:8080/"
        },
        "id": "vf1Ca4-s6r3f",
        "outputId": "a56eded2-a519-403b-bb20-205cc7ff2cff"
      },
      "source": [
        "print(\"Training model....\")\n",
        "r=model.fit(\n",
        "data_train,\n",
        "y,\n",
        "epochs=10,\n",
        "validation_data=(data_test,y_test))"
      ],
      "execution_count": 40,
      "outputs": [
        {
          "output_type": "stream",
          "text": [
            "Training model....\n",
            "Epoch 1/10\n",
            "354/354 [==============================] - 12s 35ms/step - loss: 2.9913 - accuracy: 0.0493 - val_loss: 2.9770 - val_accuracy: 0.0000e+00\n",
            "Epoch 2/10\n",
            "354/354 [==============================] - 12s 34ms/step - loss: 2.9911 - accuracy: 0.0497 - val_loss: 2.9678 - val_accuracy: 0.0000e+00\n",
            "Epoch 3/10\n",
            "354/354 [==============================] - 13s 37ms/step - loss: 2.9911 - accuracy: 0.0507 - val_loss: 2.9708 - val_accuracy: 0.0000e+00\n",
            "Epoch 4/10\n",
            "354/354 [==============================] - 13s 37ms/step - loss: 2.9910 - accuracy: 0.0487 - val_loss: 2.9716 - val_accuracy: 0.0000e+00\n",
            "Epoch 5/10\n",
            "354/354 [==============================] - 13s 37ms/step - loss: 2.9911 - accuracy: 0.0513 - val_loss: 2.9717 - val_accuracy: 0.0000e+00\n",
            "Epoch 6/10\n",
            "354/354 [==============================] - 13s 37ms/step - loss: 2.9911 - accuracy: 0.0505 - val_loss: 2.9724 - val_accuracy: 0.0000e+00\n",
            "Epoch 7/10\n",
            "354/354 [==============================] - 13s 37ms/step - loss: 2.9911 - accuracy: 0.0482 - val_loss: 2.9643 - val_accuracy: 0.0000e+00\n",
            "Epoch 8/10\n",
            "354/354 [==============================] - 13s 37ms/step - loss: 2.9909 - accuracy: 0.0508 - val_loss: 2.9617 - val_accuracy: 0.0000e+00\n",
            "Epoch 9/10\n",
            "354/354 [==============================] - 13s 37ms/step - loss: 2.9911 - accuracy: 0.0505 - val_loss: 2.9556 - val_accuracy: 0.0000e+00\n",
            "Epoch 10/10\n",
            "354/354 [==============================] - 13s 37ms/step - loss: 2.9910 - accuracy: 0.0483 - val_loss: 2.9564 - val_accuracy: 0.0000e+00\n"
          ],
          "name": "stdout"
        }
      ]
    },
    {
      "cell_type": "markdown",
      "metadata": {
        "id": "jVCxNqpPyLVM"
      },
      "source": [
        "**GRAPHS**"
      ]
    },
    {
      "cell_type": "code",
      "metadata": {
        "colab": {
          "base_uri": "https://localhost:8080/",
          "height": 283
        },
        "id": "1diaA1tR69gU",
        "outputId": "a9605694-cb63-47f5-95dd-080cca392535"
      },
      "source": [
        "import matplotlib.pyplot as plt\n",
        "plt.plot(r.history['loss'], label='loss')\n",
        "plt.plot(r.history['val_loss'], label='val_loss')\n",
        "plt.legend()"
      ],
      "execution_count": 41,
      "outputs": [
        {
          "output_type": "execute_result",
          "data": {
            "text/plain": [
              "<matplotlib.legend.Legend at 0x7ff7eb980e90>"
            ]
          },
          "metadata": {
            "tags": []
          },
          "execution_count": 41
        },
        {
          "output_type": "display_data",
          "data": {
            "image/png": "[encoded data removed]",
            "text/plain": [
              "<Figure size 432x288 with 1 Axes>"
            ]
          },
          "metadata": {
            "tags": [],
            "needs_background": "light"
          }
        }
      ]
    },
    {
      "cell_type": "code",
      "metadata": {
        "colab": {
          "base_uri": "https://localhost:8080/",
          "height": 283
        },
        "id": "M58Vuq84_72g",
        "outputId": "8b95ad50-0f7f-4182-feae-c082ec2364a9"
      },
      "source": [
        "# Plot accuracy per iteration\n",
        "plt.plot(r.history['accuracy'], label='acc')\n",
        "plt.plot(r.history['val_accuracy'], label='val_acc')\n",
        "plt.legend()"
      ],
      "execution_count": 42,
      "outputs": [
        {
          "output_type": "execute_result",
          "data": {
            "text/plain": [
              "<matplotlib.legend.Legend at 0x7ff8298c32d0>"
            ]
          },
          "metadata": {
            "tags": []
          },
          "execution_count": 42
        },
        {
          "output_type": "display_data",
          "data": {
            "image/png": "[encoded data removed]",
            "text/plain": [
              "<Figure size 432x288 with 1 Axes>"
            ]
          },
          "metadata": {
            "tags": [],
            "needs_background": "light"
          }
        }
      ]
    },
    {
      "cell_type": "markdown",
      "metadata": {
        "id": "P0LSwASiyOdT"
      },
      "source": [
        "**SAVING THE MODEL**"
      ]
    },
    {
      "cell_type": "code",
      "metadata": {
        "id": "PQ-NljOT_-tH"
      },
      "source": [
        "import h5py\n",
        "model.save(\"model.h5\")\n",
        "model.save_weights(\"weights.h5\")"
      ],
      "execution_count": 43,
      "outputs": []
    },
    {
      "cell_type": "code",
      "metadata": {
        "colab": {
          "base_uri": "https://localhost:8080/"
        },
        "id": "CyHdAfoDAJKx",
        "outputId": "564b7bfd-df53-4703-fca2-4d73ea8298b7"
      },
      "source": [
        "model_json = model.to_json()\n",
        "with open(\"model.json\", \"w\") as json_file:\n",
        "    json_file.write(model_json)\n",
        "# serialize weights to HDF5\n",
        "model.save_weights(\"model.h5\")\n",
        "print(\"Saved model to disk\")\n",
        "\n",
        "# later...\n",
        "\n",
        "# load json and create model\n"
      ],
      "execution_count": 44,
      "outputs": [
        {
          "output_type": "stream",
          "text": [
            "Saved model to disk\n"
          ],
          "name": "stdout"
        }
      ]
    },
    {
      "cell_type": "code",
      "metadata": {
        "colab": {
          "base_uri": "https://localhost:8080/"
        },
        "id": "UVGYB4Madnih",
        "outputId": "2449cbe2-93f0-4dd7-d34a-414920d967f2"
      },
      "source": [
        "from keras.models import model_from_json\n",
        "\n",
        "json_file = open('model.json', 'r')\n",
        "loaded_model_json = json_file.read()\n",
        "json_file.close()\n",
        "loaded_model = model_from_json(loaded_model_json,{\"tf\":tf})\n",
        "# load weights into new model\n",
        "loaded_model.load_weights(\"model.h5\")\n",
        "print(\"Loaded model from disk\")"
      ],
      "execution_count": 45,
      "outputs": [
        {
          "output_type": "stream",
          "text": [
            "Loaded model from disk\n"
          ],
          "name": "stdout"
        }
      ]
    }
  ]
}