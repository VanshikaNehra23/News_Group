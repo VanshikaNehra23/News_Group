{
 "cells": [
  {
   "cell_type": "markdown",
   "id": "unavailable-photography",
   "metadata": {},
   "source": [
    "# IMPORTING FILES"
   ]
  },
  {
   "cell_type": "code",
   "execution_count": 1,
   "id": "accomplished-recall",
   "metadata": {},
   "outputs": [],
   "source": [
    "import pandas as pd\n",
    "import os\n",
    "import re\n",
    "\n",
    "def convert_dir_to_csv(dir_path):\n",
    "    files = os.listdir(dir_path)\n",
    "    files.remove('list.csv')\n",
    "    dataset_dict ={\"category\":[], \"articles\":[]}\n",
    "    #f=open('/content/drive/MyDrive/News_Group/comp.graphics.txt','r+',encoding='latin1')\n",
    "    \n",
    "\n",
    "    # line=re.sub('\\d','',line)\n",
    "    # line=re.sub('.',' ',line)\n",
    "   #line=re.sub('\\d','',line)\n",
    "\n",
    "    \n",
    "\n",
    "    for i in files:\n",
    "        with open(dir_path+'/'+i, 'r+',encoding='latin1') as f:\n",
    "          line=f.read()\n",
    "          line=' '.join(line.split())\n",
    "\n",
    "          # re.sub(r'\\n','',line)\n",
    "          # re.sub(r'\\t','',line)\n",
    "          # re.sub('^From:$','',line)\n",
    "          # re.sub('^News:$','',line)\n",
    "          # re.sub(r'\\d','',line)\n",
    "          dataset_dict[\"articles\"].append(line)\n",
    "          dataset_dict[\"category\"].append(i[:len(i)-4])\n",
    "          df = pd.DataFrame(dataset_dict)\n",
    "\n",
    "    return df\n",
    "# print(convert_dir_to_csv('/content/drive/MyDrive/News_Group')[:10000])\n",
    "dataframe = convert_dir_to_csv('20_NewsGroups')\n",
    "\n",
    "# from google.colab import drive\n",
    "# drive.mount('/content/drive')\n",
    "# dataframe['articles'][0]"
   ]
  },
  {
   "cell_type": "code",
   "execution_count": 2,
   "id": "impaired-faculty",
   "metadata": {},
   "outputs": [
    {
     "name": "stdout",
     "output_type": "stream",
     "text": [
      "\n",
      "\n",
      "\n",
      "\n",
      "\n",
      "\n",
      "\n",
      "\n",
      "\n",
      "\n",
      "\n"
     ]
    }
   ],
   "source": [
    "import requests\n",
    "from bs4 import BeautifulSoup\n",
    "url=\"https://basketballhq.com/basketball-articles-for-players\"\n",
    "r=requests.get(url)\n",
    "htmlContent=r.content\n",
    "soup = BeautifulSoup(htmlContent, 'html.parser')\n",
    "i=0\n",
    "f = open(\"test/rec.sport.baseball.txt\", \"w\")\n",
    "for data in soup.find_all(\"p\"):\n",
    "    print()\n",
    "    if i<9 and i>2:\n",
    "      sum = data.get_text()\n",
    "      f.writelines(sum+'\\n')\n",
    "    if i>9:\n",
    "      break      \n",
    "    i+=1\n",
    "\n",
    "f.close()"
   ]
  },
  {
   "cell_type": "code",
   "execution_count": 3,
   "id": "destroyed-variable",
   "metadata": {},
   "outputs": [
    {
     "name": "stdout",
     "output_type": "stream",
     "text": [
      "\n",
      "\n",
      "\n",
      "\n",
      "\n",
      "\n",
      "\n",
      "\n",
      "\n",
      "\n",
      "\n"
     ]
    }
   ],
   "source": [
    "import requests\n",
    "from bs4 import BeautifulSoup\n",
    "url=\"https://www.sciencenews.org/article/black-hole-picture-magnetic-fields-event-horizon-telescope\"\n",
    "r=requests.get(url)\n",
    "htmlContent=r.content\n",
    "soup = BeautifulSoup(htmlContent, 'html.parser')\n",
    "i=0\n",
    "f = open(\"test/sci.space.txt\", \"w\")\n",
    "for data in soup.find_all(\"p\"):\n",
    "    print()\n",
    "    if i<9 and i>2:\n",
    "      sum = data.get_text()\n",
    "      f.writelines(sum+'\\n')\n",
    "    if i>9:\n",
    "      break      \n",
    "    i+=1\n",
    "\n",
    "f.close()"
   ]
  },
  {
   "cell_type": "code",
   "execution_count": 4,
   "id": "orange-money",
   "metadata": {},
   "outputs": [],
   "source": [
    "import pandas as pd\n",
    "import os\n",
    "import re\n",
    "\n",
    "def convert_dir_to_csv(dir_path):\n",
    "    files = os.listdir(dir_path)\n",
    "    \n",
    "    dataset_dict ={\"category\":[], \"articles\":[]}\n",
    "    #f=open('/content/drive/MyDrive/News_Group/comp.graphics.txt','r+',encoding='latin1')\n",
    "    \n",
    "\n",
    "    # line=re.sub('\\d','',line)\n",
    "    # line=re.sub('.',' ',line)\n",
    "   #line=re.sub('\\d','',line)\n",
    "\n",
    "    \n",
    "\n",
    "    for i in files:\n",
    "        with open(dir_path+'/'+i, 'r+',encoding='latin1') as f:\n",
    "          line=f.read()\n",
    "          line=' '.join(line.split())\n",
    "\n",
    "          # re.sub(r'\\n','',line)\n",
    "          # re.sub(r'\\t','',line)\n",
    "          # re.sub('^From:$','',line)\n",
    "          # re.sub('^News:$','',line)\n",
    "          # re.sub(r'\\d','',line)\n",
    "          dataset_dict[\"articles\"].append(line)\n",
    "          dataset_dict[\"category\"].append(i[:len(i)-4])\n",
    "          df = pd.DataFrame(dataset_dict)\n",
    "\n",
    "    return df\n",
    "# print(convert_dir_to_csv('/content/drive/MyDrive/News_Group')[:10000])\n",
    "testing = convert_dir_to_csv('test')\n",
    "\n",
    "# from google.colab import drive\n",
    "# drive.mount('/content/drive')\n",
    "# dataframe['articles'][0]"
   ]
  },
  {
   "cell_type": "code",
   "execution_count": 5,
   "id": "sought-madagascar",
   "metadata": {},
   "outputs": [
    {
     "data": {
      "text/html": [
       "<div>\n",
       "<style scoped>\n",
       "    .dataframe tbody tr th:only-of-type {\n",
       "        vertical-align: middle;\n",
       "    }\n",
       "\n",
       "    .dataframe tbody tr th {\n",
       "        vertical-align: top;\n",
       "    }\n",
       "\n",
       "    .dataframe thead th {\n",
       "        text-align: right;\n",
       "    }\n",
       "</style>\n",
       "<table border=\"1\" class=\"dataframe\">\n",
       "  <thead>\n",
       "    <tr style=\"text-align: right;\">\n",
       "      <th></th>\n",
       "      <th>category</th>\n",
       "      <th>articles</th>\n",
       "    </tr>\n",
       "  </thead>\n",
       "  <tbody>\n",
       "    <tr>\n",
       "      <th>0</th>\n",
       "      <td>alt.atheism</td>\n",
       "      <td>From: mathew &lt;mathew@mantis.co.uk&gt; Subject: Al...</td>\n",
       "    </tr>\n",
       "    <tr>\n",
       "      <th>1</th>\n",
       "      <td>comp.graphics</td>\n",
       "      <td>From: lipman@oasys.dt.navy.mil (Robert Lipman)...</td>\n",
       "    </tr>\n",
       "    <tr>\n",
       "      <th>2</th>\n",
       "      <td>comp.os.ms-windows.misc</td>\n",
       "      <td>Newsgroup: comp.os.ms-windows.misc document_id...</td>\n",
       "    </tr>\n",
       "    <tr>\n",
       "      <th>3</th>\n",
       "      <td>comp.sys.ibm.pc.hardware</td>\n",
       "      <td>Newsgroup: comp.sys.ibm.pc.hardware document_i...</td>\n",
       "    </tr>\n",
       "    <tr>\n",
       "      <th>4</th>\n",
       "      <td>comp.sys.mac.hardware</td>\n",
       "      <td>Newsgroup: comp.sys.mac.hardware document_id: ...</td>\n",
       "    </tr>\n",
       "    <tr>\n",
       "      <th>5</th>\n",
       "      <td>comp.windows.x</td>\n",
       "      <td>Newsgroup: comp.windows.x document_id: 64830 F...</td>\n",
       "    </tr>\n",
       "    <tr>\n",
       "      <th>6</th>\n",
       "      <td>misc.forsale</td>\n",
       "      <td>Newsgroup: misc.forsale document_id: 70337 Fro...</td>\n",
       "    </tr>\n",
       "    <tr>\n",
       "      <th>7</th>\n",
       "      <td>rec.autos</td>\n",
       "      <td>Newsgroup: rec.autos document_id: 101551 From:...</td>\n",
       "    </tr>\n",
       "    <tr>\n",
       "      <th>8</th>\n",
       "      <td>rec.motorcycles</td>\n",
       "      <td>Newsgroup: rec.motorcycles document_id: 101725...</td>\n",
       "    </tr>\n",
       "    <tr>\n",
       "      <th>9</th>\n",
       "      <td>rec.sport.baseball</td>\n",
       "      <td>Newsgroup: rec.sport.baseball document_id: 100...</td>\n",
       "    </tr>\n",
       "    <tr>\n",
       "      <th>10</th>\n",
       "      <td>rec.sport.hockey</td>\n",
       "      <td>Newsgroup: rec.sport.hockey document_id: 52550...</td>\n",
       "    </tr>\n",
       "    <tr>\n",
       "      <th>11</th>\n",
       "      <td>sci.crypt</td>\n",
       "      <td>Newsgroup: sci.crypt document_id: 14147 From: ...</td>\n",
       "    </tr>\n",
       "    <tr>\n",
       "      <th>12</th>\n",
       "      <td>sci.electronics</td>\n",
       "      <td>Newsgroup: sci.electronics document_id: 52434 ...</td>\n",
       "    </tr>\n",
       "    <tr>\n",
       "      <th>13</th>\n",
       "      <td>sci.med</td>\n",
       "      <td>Newsgroup: sci.med document_id: 57110 From: be...</td>\n",
       "    </tr>\n",
       "    <tr>\n",
       "      <th>14</th>\n",
       "      <td>sci.space</td>\n",
       "      <td>Newsgroup: sci.space document_id: 59497 From: ...</td>\n",
       "    </tr>\n",
       "    <tr>\n",
       "      <th>15</th>\n",
       "      <td>soc.religion.christian</td>\n",
       "      <td>Newsgroup: soc.religion.christian document_id:...</td>\n",
       "    </tr>\n",
       "    <tr>\n",
       "      <th>16</th>\n",
       "      <td>talk.politics.guns</td>\n",
       "      <td>Newsgroup: talk.politics.guns document_id: 532...</td>\n",
       "    </tr>\n",
       "    <tr>\n",
       "      <th>17</th>\n",
       "      <td>talk.politics.mideast</td>\n",
       "      <td>Newsgroup: talk.politics.mideast document_id: ...</td>\n",
       "    </tr>\n",
       "    <tr>\n",
       "      <th>18</th>\n",
       "      <td>talk.politics.misc</td>\n",
       "      <td>Newsgroup: talk.politics.misc document_id: 124...</td>\n",
       "    </tr>\n",
       "    <tr>\n",
       "      <th>19</th>\n",
       "      <td>talk.religion.misc</td>\n",
       "      <td>Newsgroup: talk.religion.misc document_id: 827...</td>\n",
       "    </tr>\n",
       "  </tbody>\n",
       "</table>\n",
       "</div>"
      ],
      "text/plain": [
       "                    category  \\\n",
       "0                alt.atheism   \n",
       "1              comp.graphics   \n",
       "2    comp.os.ms-windows.misc   \n",
       "3   comp.sys.ibm.pc.hardware   \n",
       "4      comp.sys.mac.hardware   \n",
       "5             comp.windows.x   \n",
       "6               misc.forsale   \n",
       "7                  rec.autos   \n",
       "8            rec.motorcycles   \n",
       "9         rec.sport.baseball   \n",
       "10          rec.sport.hockey   \n",
       "11                 sci.crypt   \n",
       "12           sci.electronics   \n",
       "13                   sci.med   \n",
       "14                 sci.space   \n",
       "15    soc.religion.christian   \n",
       "16        talk.politics.guns   \n",
       "17     talk.politics.mideast   \n",
       "18        talk.politics.misc   \n",
       "19        talk.religion.misc   \n",
       "\n",
       "                                             articles  \n",
       "0   From: mathew <mathew@mantis.co.uk> Subject: Al...  \n",
       "1   From: lipman@oasys.dt.navy.mil (Robert Lipman)...  \n",
       "2   Newsgroup: comp.os.ms-windows.misc document_id...  \n",
       "3   Newsgroup: comp.sys.ibm.pc.hardware document_i...  \n",
       "4   Newsgroup: comp.sys.mac.hardware document_id: ...  \n",
       "5   Newsgroup: comp.windows.x document_id: 64830 F...  \n",
       "6   Newsgroup: misc.forsale document_id: 70337 Fro...  \n",
       "7   Newsgroup: rec.autos document_id: 101551 From:...  \n",
       "8   Newsgroup: rec.motorcycles document_id: 101725...  \n",
       "9   Newsgroup: rec.sport.baseball document_id: 100...  \n",
       "10  Newsgroup: rec.sport.hockey document_id: 52550...  \n",
       "11  Newsgroup: sci.crypt document_id: 14147 From: ...  \n",
       "12  Newsgroup: sci.electronics document_id: 52434 ...  \n",
       "13  Newsgroup: sci.med document_id: 57110 From: be...  \n",
       "14  Newsgroup: sci.space document_id: 59497 From: ...  \n",
       "15  Newsgroup: soc.religion.christian document_id:...  \n",
       "16  Newsgroup: talk.politics.guns document_id: 532...  \n",
       "17  Newsgroup: talk.politics.mideast document_id: ...  \n",
       "18  Newsgroup: talk.politics.misc document_id: 124...  \n",
       "19  Newsgroup: talk.religion.misc document_id: 827...  "
      ]
     },
     "execution_count": 5,
     "metadata": {},
     "output_type": "execute_result"
    }
   ],
   "source": [
    "dataframe"
   ]
  },
  {
   "cell_type": "code",
   "execution_count": 6,
   "id": "rocky-escape",
   "metadata": {},
   "outputs": [
    {
     "data": {
      "text/plain": [
       "0     From: mathew <mathew@mantis.co.uk> Subject: Al...\n",
       "1     From: lipman@oasys.dt.navy.mil (Robert Lipman)...\n",
       "2     Newsgroup: comp.os.ms-windows.misc document_id...\n",
       "3     Newsgroup: comp.sys.ibm.pc.hardware document_i...\n",
       "4     Newsgroup: comp.sys.mac.hardware document_id: ...\n",
       "5     Newsgroup: comp.windows.x document_id: 64830 F...\n",
       "6     Newsgroup: misc.forsale document_id: 70337 Fro...\n",
       "7     Newsgroup: rec.autos document_id: 101551 From:...\n",
       "8     Newsgroup: rec.motorcycles document_id: 101725...\n",
       "9     Newsgroup: rec.sport.baseball document_id: 100...\n",
       "10    Newsgroup: rec.sport.hockey document_id: 52550...\n",
       "11    Newsgroup: sci.crypt document_id: 14147 From: ...\n",
       "12    Newsgroup: sci.electronics document_id: 52434 ...\n",
       "13    Newsgroup: sci.med document_id: 57110 From: be...\n",
       "14    Newsgroup: sci.space document_id: 59497 From: ...\n",
       "15    Newsgroup: soc.religion.christian document_id:...\n",
       "16    Newsgroup: talk.politics.guns document_id: 532...\n",
       "17    Newsgroup: talk.politics.mideast document_id: ...\n",
       "18    Newsgroup: talk.politics.misc document_id: 124...\n",
       "19    Newsgroup: talk.religion.misc document_id: 827...\n",
       "Name: articles, dtype: object"
      ]
     },
     "execution_count": 6,
     "metadata": {},
     "output_type": "execute_result"
    }
   ],
   "source": [
    "dataframe['articles']"
   ]
  },
  {
   "cell_type": "code",
   "execution_count": 7,
   "id": "silent-stylus",
   "metadata": {},
   "outputs": [
    {
     "data": {
      "text/html": [
       "<div>\n",
       "<style scoped>\n",
       "    .dataframe tbody tr th:only-of-type {\n",
       "        vertical-align: middle;\n",
       "    }\n",
       "\n",
       "    .dataframe tbody tr th {\n",
       "        vertical-align: top;\n",
       "    }\n",
       "\n",
       "    .dataframe thead th {\n",
       "        text-align: right;\n",
       "    }\n",
       "</style>\n",
       "<table border=\"1\" class=\"dataframe\">\n",
       "  <thead>\n",
       "    <tr style=\"text-align: right;\">\n",
       "      <th></th>\n",
       "      <th>category</th>\n",
       "      <th>articles</th>\n",
       "    </tr>\n",
       "  </thead>\n",
       "  <tbody>\n",
       "    <tr>\n",
       "      <th>0</th>\n",
       "      <td>rec.sport.baseball</td>\n",
       "      <td>Becoming a better basketball player is not jus...</td>\n",
       "    </tr>\n",
       "    <tr>\n",
       "      <th>1</th>\n",
       "      <td>sci.space</td>\n",
       "      <td>By Maria Temming March 24, 2021 at 10:00 am As...</td>\n",
       "    </tr>\n",
       "  </tbody>\n",
       "</table>\n",
       "</div>"
      ],
      "text/plain": [
       "             category                                           articles\n",
       "0  rec.sport.baseball  Becoming a better basketball player is not jus...\n",
       "1           sci.space  By Maria Temming March 24, 2021 at 10:00 am As..."
      ]
     },
     "execution_count": 7,
     "metadata": {},
     "output_type": "execute_result"
    }
   ],
   "source": [
    "testing"
   ]
  },
  {
   "cell_type": "code",
   "execution_count": 8,
   "id": "hourly-coating",
   "metadata": {},
   "outputs": [
    {
     "data": {
      "text/plain": [
       "0    Becoming a better basketball player is not jus...\n",
       "1    By Maria Temming March 24, 2021 at 10:00 am As...\n",
       "Name: articles, dtype: object"
      ]
     },
     "execution_count": 8,
     "metadata": {},
     "output_type": "execute_result"
    }
   ],
   "source": [
    "testing['articles']"
   ]
  },
  {
   "cell_type": "markdown",
   "id": "handy-mixer",
   "metadata": {},
   "source": [
    "# MODEL"
   ]
  },
  {
   "cell_type": "code",
   "execution_count": 9,
   "id": "liked-failing",
   "metadata": {},
   "outputs": [],
   "source": [
    "import tensorflow as tf\n",
    "from tensorflow.keras.preprocessing.text import Tokenizer\n",
    "from tensorflow.keras.preprocessing.sequence import pad_sequences\n",
    "from tensorflow.keras.layers import Dense, Input, GlobalMaxPooling1D\n",
    "from tensorflow.keras.layers import LSTM,Embedding\n",
    "from tensorflow.keras.models import Model\n",
    "\n",
    "import numpy as np\n",
    "import matplotlib.pyplot as plt\n",
    "from sklearn.model_selection import train_test_split"
   ]
  },
  {
   "cell_type": "code",
   "execution_count": 10,
   "id": "comprehensive-street",
   "metadata": {},
   "outputs": [],
   "source": [
    "dataframe['b_labels']=dataframe['category'].map({\"alt.atheism\":0,\"comp.graphics\":1,\"comp.os.ms-windows.misc\":2,\"comp.sys.ibm.pc.hardware\":3,\n",
    "                \"comp.sys.mac.hardware\":4,\"comp.windows.x\":5,\"misc.forsale\":6,\"rec.autos\":7,\"rec.motorcycles\":8,\n",
    "                \"rec.sport.baseball\":9,\"rec.sport.hockey\":10,\"sci.crypt\":11,\"sci.electronics\":12,\"sci.med\":13,\n",
    "                \"sci.space\":14,\"soc.religion.christian\":15,\"talk.politics.guns\":16,\"talk.politics.mideast\":17,\n",
    "                \"talk.politics.misc\":18,\"talk.religion.misc\":19})\n",
    "Y=dataframe['b_labels'].values"
   ]
  },
  {
   "cell_type": "code",
   "execution_count": 11,
   "id": "cheap-album",
   "metadata": {},
   "outputs": [],
   "source": [
    "testing['b_labels']=testing['category'].map({\"rec.sport.baseball\":9,\"sci.space\":14,\"talk.politics.mideast\":17})"
   ]
  },
  {
   "cell_type": "code",
   "execution_count": 12,
   "id": "unexpected-cooking",
   "metadata": {},
   "outputs": [
    {
     "data": {
      "text/html": [
       "<div>\n",
       "<style scoped>\n",
       "    .dataframe tbody tr th:only-of-type {\n",
       "        vertical-align: middle;\n",
       "    }\n",
       "\n",
       "    .dataframe tbody tr th {\n",
       "        vertical-align: top;\n",
       "    }\n",
       "\n",
       "    .dataframe thead th {\n",
       "        text-align: right;\n",
       "    }\n",
       "</style>\n",
       "<table border=\"1\" class=\"dataframe\">\n",
       "  <thead>\n",
       "    <tr style=\"text-align: right;\">\n",
       "      <th></th>\n",
       "      <th>category</th>\n",
       "      <th>articles</th>\n",
       "      <th>b_labels</th>\n",
       "    </tr>\n",
       "  </thead>\n",
       "  <tbody>\n",
       "    <tr>\n",
       "      <th>0</th>\n",
       "      <td>alt.atheism</td>\n",
       "      <td>From: mathew &lt;mathew@mantis.co.uk&gt; Subject: Al...</td>\n",
       "      <td>0</td>\n",
       "    </tr>\n",
       "    <tr>\n",
       "      <th>1</th>\n",
       "      <td>comp.graphics</td>\n",
       "      <td>From: lipman@oasys.dt.navy.mil (Robert Lipman)...</td>\n",
       "      <td>1</td>\n",
       "    </tr>\n",
       "    <tr>\n",
       "      <th>2</th>\n",
       "      <td>comp.os.ms-windows.misc</td>\n",
       "      <td>Newsgroup: comp.os.ms-windows.misc document_id...</td>\n",
       "      <td>2</td>\n",
       "    </tr>\n",
       "    <tr>\n",
       "      <th>3</th>\n",
       "      <td>comp.sys.ibm.pc.hardware</td>\n",
       "      <td>Newsgroup: comp.sys.ibm.pc.hardware document_i...</td>\n",
       "      <td>3</td>\n",
       "    </tr>\n",
       "    <tr>\n",
       "      <th>4</th>\n",
       "      <td>comp.sys.mac.hardware</td>\n",
       "      <td>Newsgroup: comp.sys.mac.hardware document_id: ...</td>\n",
       "      <td>4</td>\n",
       "    </tr>\n",
       "    <tr>\n",
       "      <th>5</th>\n",
       "      <td>comp.windows.x</td>\n",
       "      <td>Newsgroup: comp.windows.x document_id: 64830 F...</td>\n",
       "      <td>5</td>\n",
       "    </tr>\n",
       "    <tr>\n",
       "      <th>6</th>\n",
       "      <td>misc.forsale</td>\n",
       "      <td>Newsgroup: misc.forsale document_id: 70337 Fro...</td>\n",
       "      <td>6</td>\n",
       "    </tr>\n",
       "    <tr>\n",
       "      <th>7</th>\n",
       "      <td>rec.autos</td>\n",
       "      <td>Newsgroup: rec.autos document_id: 101551 From:...</td>\n",
       "      <td>7</td>\n",
       "    </tr>\n",
       "    <tr>\n",
       "      <th>8</th>\n",
       "      <td>rec.motorcycles</td>\n",
       "      <td>Newsgroup: rec.motorcycles document_id: 101725...</td>\n",
       "      <td>8</td>\n",
       "    </tr>\n",
       "    <tr>\n",
       "      <th>9</th>\n",
       "      <td>rec.sport.baseball</td>\n",
       "      <td>Newsgroup: rec.sport.baseball document_id: 100...</td>\n",
       "      <td>9</td>\n",
       "    </tr>\n",
       "    <tr>\n",
       "      <th>10</th>\n",
       "      <td>rec.sport.hockey</td>\n",
       "      <td>Newsgroup: rec.sport.hockey document_id: 52550...</td>\n",
       "      <td>10</td>\n",
       "    </tr>\n",
       "    <tr>\n",
       "      <th>11</th>\n",
       "      <td>sci.crypt</td>\n",
       "      <td>Newsgroup: sci.crypt document_id: 14147 From: ...</td>\n",
       "      <td>11</td>\n",
       "    </tr>\n",
       "    <tr>\n",
       "      <th>12</th>\n",
       "      <td>sci.electronics</td>\n",
       "      <td>Newsgroup: sci.electronics document_id: 52434 ...</td>\n",
       "      <td>12</td>\n",
       "    </tr>\n",
       "    <tr>\n",
       "      <th>13</th>\n",
       "      <td>sci.med</td>\n",
       "      <td>Newsgroup: sci.med document_id: 57110 From: be...</td>\n",
       "      <td>13</td>\n",
       "    </tr>\n",
       "    <tr>\n",
       "      <th>14</th>\n",
       "      <td>sci.space</td>\n",
       "      <td>Newsgroup: sci.space document_id: 59497 From: ...</td>\n",
       "      <td>14</td>\n",
       "    </tr>\n",
       "    <tr>\n",
       "      <th>15</th>\n",
       "      <td>soc.religion.christian</td>\n",
       "      <td>Newsgroup: soc.religion.christian document_id:...</td>\n",
       "      <td>15</td>\n",
       "    </tr>\n",
       "    <tr>\n",
       "      <th>16</th>\n",
       "      <td>talk.politics.guns</td>\n",
       "      <td>Newsgroup: talk.politics.guns document_id: 532...</td>\n",
       "      <td>16</td>\n",
       "    </tr>\n",
       "    <tr>\n",
       "      <th>17</th>\n",
       "      <td>talk.politics.mideast</td>\n",
       "      <td>Newsgroup: talk.politics.mideast document_id: ...</td>\n",
       "      <td>17</td>\n",
       "    </tr>\n",
       "    <tr>\n",
       "      <th>18</th>\n",
       "      <td>talk.politics.misc</td>\n",
       "      <td>Newsgroup: talk.politics.misc document_id: 124...</td>\n",
       "      <td>18</td>\n",
       "    </tr>\n",
       "    <tr>\n",
       "      <th>19</th>\n",
       "      <td>talk.religion.misc</td>\n",
       "      <td>Newsgroup: talk.religion.misc document_id: 827...</td>\n",
       "      <td>19</td>\n",
       "    </tr>\n",
       "  </tbody>\n",
       "</table>\n",
       "</div>"
      ],
      "text/plain": [
       "                    category  \\\n",
       "0                alt.atheism   \n",
       "1              comp.graphics   \n",
       "2    comp.os.ms-windows.misc   \n",
       "3   comp.sys.ibm.pc.hardware   \n",
       "4      comp.sys.mac.hardware   \n",
       "5             comp.windows.x   \n",
       "6               misc.forsale   \n",
       "7                  rec.autos   \n",
       "8            rec.motorcycles   \n",
       "9         rec.sport.baseball   \n",
       "10          rec.sport.hockey   \n",
       "11                 sci.crypt   \n",
       "12           sci.electronics   \n",
       "13                   sci.med   \n",
       "14                 sci.space   \n",
       "15    soc.religion.christian   \n",
       "16        talk.politics.guns   \n",
       "17     talk.politics.mideast   \n",
       "18        talk.politics.misc   \n",
       "19        talk.religion.misc   \n",
       "\n",
       "                                             articles  b_labels  \n",
       "0   From: mathew <mathew@mantis.co.uk> Subject: Al...         0  \n",
       "1   From: lipman@oasys.dt.navy.mil (Robert Lipman)...         1  \n",
       "2   Newsgroup: comp.os.ms-windows.misc document_id...         2  \n",
       "3   Newsgroup: comp.sys.ibm.pc.hardware document_i...         3  \n",
       "4   Newsgroup: comp.sys.mac.hardware document_id: ...         4  \n",
       "5   Newsgroup: comp.windows.x document_id: 64830 F...         5  \n",
       "6   Newsgroup: misc.forsale document_id: 70337 Fro...         6  \n",
       "7   Newsgroup: rec.autos document_id: 101551 From:...         7  \n",
       "8   Newsgroup: rec.motorcycles document_id: 101725...         8  \n",
       "9   Newsgroup: rec.sport.baseball document_id: 100...         9  \n",
       "10  Newsgroup: rec.sport.hockey document_id: 52550...        10  \n",
       "11  Newsgroup: sci.crypt document_id: 14147 From: ...        11  \n",
       "12  Newsgroup: sci.electronics document_id: 52434 ...        12  \n",
       "13  Newsgroup: sci.med document_id: 57110 From: be...        13  \n",
       "14  Newsgroup: sci.space document_id: 59497 From: ...        14  \n",
       "15  Newsgroup: soc.religion.christian document_id:...        15  \n",
       "16  Newsgroup: talk.politics.guns document_id: 532...        16  \n",
       "17  Newsgroup: talk.politics.mideast document_id: ...        17  \n",
       "18  Newsgroup: talk.politics.misc document_id: 124...        18  \n",
       "19  Newsgroup: talk.religion.misc document_id: 827...        19  "
      ]
     },
     "execution_count": 12,
     "metadata": {},
     "output_type": "execute_result"
    }
   ],
   "source": [
    "dataframe"
   ]
  },
  {
   "cell_type": "code",
   "execution_count": 13,
   "id": "normal-nevada",
   "metadata": {},
   "outputs": [
    {
     "data": {
      "text/plain": [
       "array([ 0,  1,  2,  3,  4,  5,  6,  7,  8,  9, 10, 11, 12, 13, 14, 15, 16,\n",
       "       17, 18, 19], dtype=int64)"
      ]
     },
     "execution_count": 13,
     "metadata": {},
     "output_type": "execute_result"
    }
   ],
   "source": [
    "Y"
   ]
  },
  {
   "cell_type": "code",
   "execution_count": 14,
   "id": "downtown-vessel",
   "metadata": {},
   "outputs": [],
   "source": [
    "MAX_VOCAB_SIZE=200000\n",
    "tokenizer = Tokenizer(num_words=MAX_VOCAB_SIZE)"
   ]
  },
  {
   "cell_type": "code",
   "execution_count": 15,
   "id": "british-allocation",
   "metadata": {},
   "outputs": [],
   "source": [
    "tokenizer.fit_on_texts(dataframe['articles'])"
   ]
  },
  {
   "cell_type": "code",
   "execution_count": 16,
   "id": "knowing-obligation",
   "metadata": {},
   "outputs": [],
   "source": [
    "sequence_train=tokenizer.texts_to_sequences(dataframe['articles'])\n",
    "sequence_test=tokenizer.texts_to_sequences(testing['articles'])"
   ]
  },
  {
   "cell_type": "code",
   "execution_count": 17,
   "id": "vietnamese-consultation",
   "metadata": {},
   "outputs": [
    {
     "name": "stdout",
     "output_type": "stream",
     "text": [
      "Found 190934 unique tokens.\n"
     ]
    }
   ],
   "source": [
    "word2idx=tokenizer.word_index\n",
    "V=len(word2idx)\n",
    "print(\"Found %s unique tokens.\" %V)"
   ]
  },
  {
   "cell_type": "code",
   "execution_count": 18,
   "id": "fancy-fraction",
   "metadata": {},
   "outputs": [
    {
     "name": "stdout",
     "output_type": "stream",
     "text": [
      "Shape of data train tensor:  (20, 1002124)\n"
     ]
    }
   ],
   "source": [
    "data_train=pad_sequences(sequence_train)\n",
    "print(\"Shape of data train tensor: \",data_train.shape)\n",
    "T=data_train.shape[1]"
   ]
  },
  {
   "cell_type": "code",
   "execution_count": 19,
   "id": "graphic-dining",
   "metadata": {},
   "outputs": [
    {
     "name": "stdout",
     "output_type": "stream",
     "text": [
      "Shape of data test tensor:  (2, 1002124)\n"
     ]
    }
   ],
   "source": [
    "data_test=pad_sequences(sequence_test,maxlen=T)\n",
    "print(\"Shape of data test tensor: \",data_test.shape)\n"
   ]
  },
  {
   "cell_type": "code",
   "execution_count": 20,
   "id": "arctic-romantic",
   "metadata": {},
   "outputs": [],
   "source": [
    "D=20\n",
    "M=15\n",
    "i=Input(shape=(T,))\n",
    "x=Embedding(V+1,D)(i)\n",
    "x=LSTM(M,return_sequences=True)(x)\n",
    "x=GlobalMaxPooling1D()(x)\n",
    "x=Dense(20,activation='softmax')(x)\n",
    "model=Model(i,x)"
   ]
  },
  {
   "cell_type": "code",
   "execution_count": 21,
   "id": "blessed-aquatic",
   "metadata": {},
   "outputs": [],
   "source": [
    "model.compile(\n",
    "        loss='sparse_categorical_crossentropy',\n",
    "optimizer='adam',\n",
    "metrics=['accuracy'])\n",
    "\n"
   ]
  },
  {
   "cell_type": "code",
   "execution_count": 22,
   "id": "brilliant-breed",
   "metadata": {},
   "outputs": [],
   "source": [
    "Ytest=testing['b_labels'].values"
   ]
  },
  {
   "cell_type": "code",
   "execution_count": 23,
   "id": "broke-depression",
   "metadata": {},
   "outputs": [
    {
     "data": {
      "text/plain": [
       "array([[    0,     0,     0, ..., 11974,  7424, 27198],\n",
       "       [    0,     0,     0, ...,   207,     6,   716],\n",
       "       [   31,   119,   348, ...,    16,   177,   207],\n",
       "       ...,\n",
       "       [    0,     0,     0, ...,   488, 16825, 14402],\n",
       "       [    0,     0,     0, ...,  8629, 14609,   985],\n",
       "       [    0,     0,     0, ...,     3,     1,  1663]])"
      ]
     },
     "execution_count": 23,
     "metadata": {},
     "output_type": "execute_result"
    }
   ],
   "source": [
    "data_train"
   ]
  },
  {
   "cell_type": "code",
   "execution_count": 24,
   "id": "located-pacific",
   "metadata": {},
   "outputs": [
    {
     "data": {
      "text/plain": [
       "array([ 0,  1,  2,  3,  4,  5,  6,  7,  8,  9, 10, 11, 12, 13, 14, 15, 16,\n",
       "       17, 18, 19], dtype=int64)"
      ]
     },
     "execution_count": 24,
     "metadata": {},
     "output_type": "execute_result"
    }
   ],
   "source": [
    "Y"
   ]
  },
  {
   "cell_type": "code",
   "execution_count": 25,
   "id": "pressed-tracy",
   "metadata": {},
   "outputs": [
    {
     "data": {
      "text/plain": [
       "array([[  0,   0,   0, ...,   1, 367, 659],\n",
       "       [  0,   0,   0, ...,  77, 183, 588]])"
      ]
     },
     "execution_count": 25,
     "metadata": {},
     "output_type": "execute_result"
    }
   ],
   "source": [
    "data_test"
   ]
  },
  {
   "cell_type": "code",
   "execution_count": 26,
   "id": "developmental-barrel",
   "metadata": {},
   "outputs": [
    {
     "data": {
      "text/plain": [
       "array([ 9, 14], dtype=int64)"
      ]
     },
     "execution_count": 26,
     "metadata": {},
     "output_type": "execute_result"
    }
   ],
   "source": [
    "Ytest"
   ]
  },
  {
   "cell_type": "code",
   "execution_count": 27,
   "id": "severe-laptop",
   "metadata": {},
   "outputs": [],
   "source": [
    "pd.DataFrame(data_train).to_csv('news.csv')"
   ]
  },
  {
   "cell_type": "code",
   "execution_count": null,
   "id": "lonely-designation",
   "metadata": {},
   "outputs": [
    {
     "name": "stdout",
     "output_type": "stream",
     "text": [
      "Training model....\n",
      "Epoch 1/5\n"
     ]
    }
   ],
   "source": [
    "print(\"Training model....\")\n",
    "r=model.fit(\n",
    "data_train,\n",
    "Y,\n",
    "epochs=5,\n",
    "validation_data=(data_test,Ytest))"
   ]
  },
  {
   "cell_type": "markdown",
   "id": "confused-exploration",
   "metadata": {},
   "source": [
    "# PLOTS"
   ]
  },
  {
   "cell_type": "code",
   "execution_count": null,
   "id": "robust-freedom",
   "metadata": {},
   "outputs": [],
   "source": [
    "import matplotlib.pyplot as plt\n",
    "plt.plot(r.history['loss'], label='loss')\n",
    "plt.plot(r.history['val_loss'], label='val_loss')\n",
    "plt.legend()"
   ]
  },
  {
   "cell_type": "code",
   "execution_count": null,
   "id": "pointed-exemption",
   "metadata": {},
   "outputs": [],
   "source": [
    "# Plot accuracy per iteration\n",
    "plt.plot(r.history['accuracy'], label='acc')\n",
    "plt.plot(r.history['val_accuracy'], label='val_acc')\n",
    "plt.legend()"
   ]
  },
  {
   "cell_type": "markdown",
   "id": "micro-acoustic",
   "metadata": {},
   "source": [
    "# SAVING THE MODEL"
   ]
  },
  {
   "cell_type": "code",
   "execution_count": null,
   "id": "chubby-story",
   "metadata": {},
   "outputs": [],
   "source": []
  }
 ],
 "metadata": {
  "kernelspec": {
   "display_name": "Python 3",
   "language": "python",
   "name": "python3"
  },
  "language_info": {
   "codemirror_mode": {
    "name": "ipython",
    "version": 3
   },
   "file_extension": ".py",
   "mimetype": "text/x-python",
   "name": "python",
   "nbconvert_exporter": "python",
   "pygments_lexer": "ipython3",
   "version": "3.8.8"
  }
 },
 "nbformat": 4,
 "nbformat_minor": 5
}
